{
 "cells": [
  {
   "cell_type": "code",
   "execution_count": 21,
   "id": "65d0531e-e8c5-4637-82e7-56b5a157c6b4",
   "metadata": {},
   "outputs": [],
   "source": [
    "import numpy as np\n",
    "import pandas as pd\n",
    "from collections import Counter\n",
    "import re"
   ]
  },
  {
   "cell_type": "code",
   "execution_count": 57,
   "id": "cc1def0b-cfe0-4747-ad46-5ec31d48baa0",
   "metadata": {},
   "outputs": [],
   "source": [
    "class BestGuess:\n",
    "    def __init__ (self):\n",
    "        self.all_words = list(pd.read_csv('words.csv')['aahed'])\n",
    "        self.reg_n = ['^[^&', '[^&', '[^&', '[^&', '[^&', '$']\n",
    "        self.secured = ['.', '.', '.', '.', '.']\n",
    "        self.guess = ''\n",
    "        self.filtered_words = self.all_words\n",
    "        \n",
    "\n",
    "    @staticmethod\n",
    "    def generate_pattern(base, x):\n",
    "        # Produces the feedback string\n",
    "        counts = Counter(base)\n",
    "        results = []\n",
    "        for i, letter in enumerate(x):\n",
    "            if x[i] == base[i]:\n",
    "                results += x[i]\n",
    "                counts[x[i]] -= 1\n",
    "            else:\n",
    "                results += '+'\n",
    "        for i, letter in enumerate(x):\n",
    "            if x[i] != base[i] and x[i] in base:\n",
    "                if counts[x[i]] > 0:\n",
    "                    counts[x[i]] -= 1\n",
    "                    results[i] = '-'\n",
    "        return ''.join(results)\n",
    "\n",
    "    \n",
    "    @staticmethod\n",
    "    def entropy(vals, total):\n",
    "        x = list(vals.values())\n",
    "        x = np.array(x) / total\n",
    "        entropy = -sum(x * np.log2(x))\n",
    "        return entropy\n",
    "\n",
    "    def highest_entropy_word(self):\n",
    "        list_words = {w: Counter([self.generate_pattern(f, ''.join(w)) for f in self.filtered_words]) for w in self.filtered_words}\n",
    "        tot_words = len(list_words)\n",
    "        entropies = {i: self.entropy(list_words[i], total=tot_words) for i in list_words}\n",
    "        word = max(entropies, key=entropies.get)\n",
    "        return word, entropies[word]\n",
    "\n",
    "    def regex_exp_one(self, res):\n",
    "        l_s, words_seen = '', []\n",
    "        for i, n in enumerate(res):\n",
    "            if n == '+':\n",
    "                if self.guess[i] not in words_seen:\n",
    "                    for letter in range(5):\n",
    "                        if n != self.secured[letter]:\n",
    "                            self.reg_n[letter] += self.guess[i]\n",
    "            elif n == '-':\n",
    "\n",
    "                self.reg_n[i] += self.guess[i]\n",
    "                l_s += f'(?=.*{self.guess[i]}.*)'\n",
    "                words_seen.append(self.guess[i])\n",
    "            elif n == '-' and self.guess[i] in words_seen:\n",
    "                l_s += f'(?=.*{self.guess[i]}.*{self.guess[i]}.*)'\n",
    "            else:\n",
    "                self.secured[i] = self.guess[i]\n",
    "        re_str = l_s + '^' + ''.join(self.secured) + '$'\n",
    "        return re.compile(re_str)\n",
    "\n",
    "    def regex_exp_two(self):\n",
    "        final = ''\n",
    "        for i, n in enumerate(self.reg_n[:5]):\n",
    "            if self.secured[i] == '.':\n",
    "                final += n + ']'\n",
    "            else:\n",
    "                final += f'{self.secured[i]}'\n",
    "        return re.compile(final + '$')\n",
    "\n",
    "    def feedback(self):\n",
    "        result = input('write down the feedback from the game: \\s \"+\" for the gray letter,\"-\" for the yellow letter and \"LETTER\" for the green letter')\n",
    "        re_1 = self.regex_exp_one(result)\n",
    "        self.filtered_words = list(filter(re_1.match, self.filtered_words))\n",
    "        r_2 = self.regex_exp_two()\n",
    "        self.filtered_words = list(filter(r_2.match, self.filtered_words))\n",
    "\n",
    "    def type_word(self):\n",
    "        self.guess = input('type your guess')\n",
    "\n",
    "    def game_on_function(self):\n",
    "        feed = input('Did you win?: Type \"yes\" or \"no\"')\n",
    "        while feed not in ['Yes', 'yes', 'no', 'No']:\n",
    "            print('Wrong input, try again')\n",
    "            feed = input('Did you win?: Type \"yes\" or \"no\"')\n",
    "        if feed == 'yes' or feed == 'Yes':\n",
    "            return False\n",
    "        elif feed == 'No' or feed == 'no':\n",
    "            return True"
   ]
  },
  {
   "cell_type": "code",
   "execution_count": 58,
   "id": "6ed67470-bbdf-4665-8f5d-3ca40f1346fc",
   "metadata": {},
   "outputs": [],
   "source": [
    "game = BestGuess()"
   ]
  },
  {
   "cell_type": "code",
   "execution_count": null,
   "id": "7f1db975-c1d0-40ea-af29-844eec151e34",
   "metadata": {},
   "outputs": [
    {
     "name": "stdin",
     "output_type": "stream",
     "text": [
      "type your guess crane\n"
     ]
    }
   ],
   "source": [
    "game_on = True\n",
    "game.type_word()\n",
    "while len(game.filtered_words) != 1 and game_on :\n",
    "    game.feedback()\n",
    "    game_on = game.game_on_function()\n",
    "    if not game_on:\n",
    "        break\n",
    "    game.guess = game.highest_entropy_word()[0]\n",
    "    print(f'your next best word is: {game.guess}')"
   ]
  },
  {
   "cell_type": "markdown",
   "id": "ddab726e-b3d4-4723-8694-1f41a74439b1",
   "metadata": {},
   "source": [
    "# Find Best starting word\n",
    "## Is 'TARES' by the way"
   ]
  },
  {
   "cell_type": "code",
   "execution_count": 31,
   "id": "93f5ab92-0d90-45a8-b584-706d55501b78",
   "metadata": {},
   "outputs": [],
   "source": [
    "test = BestGuess()\n",
    "best = test.highest_entropy_word()\n",
    "print('The best word is:', best[0])"
   ]
  },
  {
   "cell_type": "code",
   "execution_count": null,
   "id": "9a3e54cc-c3a1-48d2-9290-ca387c34cf80",
   "metadata": {},
   "outputs": [],
   "source": []
  }
 ],
 "metadata": {
  "kernelspec": {
   "display_name": "Python 3 (ipykernel)",
   "language": "python",
   "name": "python3"
  },
  "language_info": {
   "codemirror_mode": {
    "name": "ipython",
    "version": 3
   },
   "file_extension": ".py",
   "mimetype": "text/x-python",
   "name": "python",
   "nbconvert_exporter": "python",
   "pygments_lexer": "ipython3",
   "version": "3.11.5"
  }
 },
 "nbformat": 4,
 "nbformat_minor": 5
}
